{
 "cells": [
  {
   "cell_type": "markdown",
   "id": "933f18d8",
   "metadata": {},
   "source": [
    "### making program to add first  half  to second"
   ]
  },
  {
   "cell_type": "code",
   "execution_count": null,
   "id": "07ac0d32",
   "metadata": {},
   "outputs": [],
   "source": [
    "def evenhalfadd(a):\n",
    "    l = len(a)\n",
    "    h = l/2\n",
    "    i = 0\n",
    "    j = 1\n",
    "    while i < h and j<=h:\n",
    "        a[i] = a[i]+a[-j]\n",
    "        a[-j] = \"\"\n",
    "        i = i + 1\n",
    "        j = j + 1\n",
    "        \n",
    "    return a\n"
   ]
  },
  {
   "cell_type": "code",
   "execution_count": null,
   "id": "b8a86243",
   "metadata": {},
   "outputs": [],
   "source": [
    "a = [1,2,3,4,5,6,7,8]\n",
    "print(evenhalfadd(a))\n"
   ]
  },
  {
   "cell_type": "markdown",
   "id": "86e25be7",
   "metadata": {},
   "source": [
    "---"
   ]
  },
  {
   "cell_type": "code",
   "execution_count": null,
   "id": "8305bd29",
   "metadata": {},
   "outputs": [],
   "source": [
    "c = \"assasasasasasakhkhuhhsauhsauhsaiushiaush\"\n",
    "c.replace(\"a\",\"\")"
   ]
  },
  {
   "cell_type": "code",
   "execution_count": null,
   "id": "1fb58b93",
   "metadata": {},
   "outputs": [],
   "source": [
    "c.count(\"s\")"
   ]
  },
  {
   "cell_type": "code",
   "execution_count": null,
   "id": "f8da5cbc",
   "metadata": {},
   "outputs": [],
   "source": [
    "c.find(\"s\")\n"
   ]
  },
  {
   "cell_type": "code",
   "execution_count": null,
   "id": "09cfda52",
   "metadata": {},
   "outputs": [],
   "source": [
    "c.split(\"s\")\n"
   ]
  },
  {
   "cell_type": "code",
   "execution_count": null,
   "id": "7d7f73fc",
   "metadata": {},
   "outputs": [],
   "source": [
    "t1 = (1,\"s\",\"b\",121,2,3,6,\"baba\")\n",
    "t2 = (1,2,3,6)\n",
    "t1+t2"
   ]
  },
  {
   "cell_type": "markdown",
   "id": "db0c37b8",
   "metadata": {},
   "source": [
    "---"
   ]
  },
  {
   "cell_type": "code",
   "execution_count": null,
   "id": "9adbc599",
   "metadata": {},
   "outputs": [],
   "source": [
    "l1 = [1,2,3,4,5,6,7,1,8,90,]\n",
    "l1.count(1)"
   ]
  },
  {
   "cell_type": "code",
   "execution_count": null,
   "id": "35d9c5d3",
   "metadata": {},
   "outputs": [],
   "source": [
    "l1[0:4]"
   ]
  },
  {
   "cell_type": "code",
   "execution_count": null,
   "id": "245e6e2a",
   "metadata": {},
   "outputs": [],
   "source": [
    "l1[4:2]"
   ]
  },
  {
   "cell_type": "code",
   "execution_count": null,
   "id": "f7fe3769",
   "metadata": {},
   "outputs": [],
   "source": [
    "def pprnt(ch,l):\n",
    "    i = 1\n",
    "    while i<=l:\n",
    "        s = l-i\n",
    "        b = \" \"\n",
    "        print((b*s)+(str(ch)*i))\n",
    "        i = i + 1\n",
    "        "
   ]
  },
  {
   "cell_type": "code",
   "execution_count": null,
   "id": "c4b8ebf1",
   "metadata": {},
   "outputs": [],
   "source": [
    "pprnt(\"*\",5)\n"
   ]
  },
  {
   "cell_type": "code",
   "execution_count": null,
   "id": "c3d99f79",
   "metadata": {},
   "outputs": [],
   "source": [
    "def line(b,i):\n",
    "    k = ord(b)\n",
    "    s = \"\"\n",
    "    while k <= i:\n",
    "        s = s + chr(k)\n",
    "        k = k + 1\n",
    "    return s"
   ]
  },
  {
   "cell_type": "code",
   "execution_count": null,
   "id": "72871ba1",
   "metadata": {},
   "outputs": [],
   "source": [
    "def character_triangle(b,e):\n",
    "    i = ord(b)\n",
    "    sp =int((ord(e)-ord(b)+1)/2)\n",
    "    blank =\" \"\n",
    "    k = 0\n",
    "    while i <= ord(e):\n",
    "        print(((sp-k)*blank)+(line(b,i)))\n",
    "        i = i + 2\n",
    "        k = k + 1"
   ]
  },
  {
   "cell_type": "code",
   "execution_count": null,
   "id": "ba7d02c5",
   "metadata": {
    "scrolled": true
   },
   "outputs": [],
   "source": [
    "character_triangle(\"m\",\"s\")"
   ]
  },
  {
   "cell_type": "code",
   "execution_count": null,
   "id": "7351cc92",
   "metadata": {},
   "outputs": [],
   "source": [
    "di1={\"shiza\":21,\"dua\":19,\"samreen\":18,\"rabail\":18}\n",
    "di1"
   ]
  },
  {
   "cell_type": "code",
   "execution_count": null,
   "id": "782dde5c",
   "metadata": {},
   "outputs": [],
   "source": [
    "di1.items()"
   ]
  },
  {
   "cell_type": "code",
   "execution_count": null,
   "id": "3fbc8f24",
   "metadata": {},
   "outputs": [],
   "source": [
    "di1.keys()"
   ]
  },
  {
   "cell_type": "code",
   "execution_count": null,
   "id": "a0779933",
   "metadata": {},
   "outputs": [],
   "source": [
    "di1.values()"
   ]
  },
  {
   "cell_type": "code",
   "execution_count": null,
   "id": "2dd9b433",
   "metadata": {},
   "outputs": [],
   "source": [
    "di1[\"shiza\"]"
   ]
  },
  {
   "cell_type": "code",
   "execution_count": null,
   "id": "098d757e",
   "metadata": {},
   "outputs": [],
   "source": [
    "sum(di1.values())"
   ]
  },
  {
   "cell_type": "code",
   "execution_count": null,
   "id": "680c6df9",
   "metadata": {},
   "outputs": [],
   "source": [
    "a = [[0]*3]*4\n",
    "a"
   ]
  },
  {
   "cell_type": "code",
   "execution_count": null,
   "id": "aece2bbe",
   "metadata": {},
   "outputs": [],
   "source": [
    "a[0][0] = 9\n",
    "a[1][2] = 13\n",
    "a[2][1] = 24\n",
    "a[3][1] = 7"
   ]
  },
  {
   "cell_type": "code",
   "execution_count": null,
   "id": "aa04155e",
   "metadata": {},
   "outputs": [],
   "source": [
    "i = 0\n",
    "while i < 4:\n",
    "    j = 0\n",
    "    while j < 3:\n",
    "        print(a[i][j],end=\",\")\n",
    "        j = j + 1\n",
    "    print()\n",
    "    i = i + 1"
   ]
  },
  {
   "cell_type": "code",
   "execution_count": null,
   "id": "7507cf5b",
   "metadata": {},
   "outputs": [],
   "source": [
    "a"
   ]
  },
  {
   "cell_type": "code",
   "execution_count": null,
   "id": "4ca9bfa9",
   "metadata": {},
   "outputs": [],
   "source": [
    "b = [[[2 for i in range(4) ]for j in range(4)] for k in range(4)]"
   ]
  },
  {
   "cell_type": "code",
   "execution_count": null,
   "id": "bf3caed6",
   "metadata": {},
   "outputs": [],
   "source": [
    "b"
   ]
  },
  {
   "cell_type": "code",
   "execution_count": null,
   "id": "086b3a8c",
   "metadata": {},
   "outputs": [],
   "source": [
    "class Matrix:\n",
    "    pass\n",
    "\n",
    "\n",
    "def createMatrix(rows, cols):\n",
    "    m = Matrix()\n",
    "    m.RowCount = rows\n",
    "    m.ColumnCount = cols\n",
    "    m.Data = [[0 for c in range(cols)] for r in range(rows)]\n",
    "    return m\n",
    "\n",
    "\n",
    "def inputMatrix(m):\n",
    "    i = 0\n",
    "    while i < m.RowCount:\n",
    "        j = 0\n",
    "        while j < m.ColumnCount:\n",
    "            m.Data[i][j] = int(input())\n",
    "            j += 1\n",
    "        i += 1\n",
    "    return\n",
    "\n",
    "\n",
    "def printMatrix(m):\n",
    "    i = 0\n",
    "    while i < m.RowCount:\n",
    "        j = 0\n",
    "        while j < m.ColumnCount:\n",
    "            print(m.Data[i][j], end=\" \")\n",
    "            j += 1\n",
    "        print()\n",
    "        i += 1\n",
    "    return\n",
    "\n",
    "def transposeMatrix(m):\n",
    "    t = createMatrix(m.ColumnCount, m.RowCount)\n",
    "\n",
    "    i = 0\n",
    "    while i < t.RowCount:\n",
    "        j = 0\n",
    "        while j < t.ColumnCount:\n",
    "            t.Data[i][j] = m.Data[j][i]\n",
    "            j += 1\n",
    "        i += 1\n",
    "    return t\n",
    "def isSymmetric(m):\n",
    "    s = transposeMatrix(m)\n",
    "    if s.Data == m.Data:\n",
    "        return  True\n",
    "    else:\n",
    "        return False\n"
   ]
  },
  {
   "cell_type": "code",
   "execution_count": null,
   "id": "16dd50c3",
   "metadata": {},
   "outputs": [],
   "source": [
    "a = createMatrix(2,2)\n",
    "inputMatrix(a)\n",
    "m = transposeMatrix(a)\n",
    "printMatrix(m)\n",
    "print(type(m))\n",
    "print(type(a))\n",
    "k = isSymmetric(a)\n",
    "print(k)\n",
    "if  k == True :\n",
    "    print(\"the matrix is symmetric\")\n",
    "else:\n",
    "    print(\"the matrix is not symmetric\")"
   ]
  },
  {
   "cell_type": "code",
   "execution_count": null,
   "id": "a8b6cc96",
   "metadata": {},
   "outputs": [],
   "source": [
    "printMatrix(a)"
   ]
  },
  {
   "cell_type": "code",
   "execution_count": null,
   "id": "ae8dad68",
   "metadata": {},
   "outputs": [],
   "source": [
    "b = [[[0 for c in range(2)] for r in range(3)] for z in range(7)]\n",
    "b"
   ]
  },
  {
   "cell_type": "code",
   "execution_count": null,
   "id": "5adbad69",
   "metadata": {},
   "outputs": [],
   "source": [
    "print(b[0])\n",
    "print(b[1])\n",
    "print(b[2])\n",
    "print(b[3])\n",
    "print(b[4])\n",
    "print(b[5])\n",
    "print(b[6])\n"
   ]
  },
  {
   "cell_type": "code",
   "execution_count": null,
   "id": "d6cd0fc6",
   "metadata": {},
   "outputs": [],
   "source": [
    "class Matrix:\n",
    "    pass\n",
    "\n",
    "\n",
    "def createMatrix(rows, cols):\n",
    "    m = Matrix()\n",
    "    m.RowCount = rows\n",
    "    m.ColumnCount = cols\n",
    "    m.Data = [[0 for c in range(cols)] for r in range(rows)]\n",
    "    return m\n",
    "\n",
    "\n",
    "def inputMatrix(m):\n",
    "    i = 0\n",
    "    while i < m.RowCount:\n",
    "        j = 0\n",
    "        while j < m.ColumnCount:\n",
    "            m.Data[i][j] = int(input())\n",
    "            j += 1\n",
    "        i += 1\n",
    "    return m \n",
    "\n",
    "\n",
    "def printMatrix(m):\n",
    "    i = 0\n",
    "    while i < m.RowCount:\n",
    "        j = 0\n",
    "        while j < m.ColumnCount:\n",
    "            print(m.Data[i][j], end=\" \")\n",
    "            j += 1\n",
    "        print()\n",
    "        i += 1\n",
    "    return\n",
    "\n",
    "def transposeMatrix(m):\n",
    "    t = createMatrix(m.ColumnCount, m.RowCount)\n",
    "\n",
    "    i = 0\n",
    "    while i < t.RowCount:\n",
    "        j = 0\n",
    "        while j < t.ColumnCount:\n",
    "            t.Data[i][j] = m.Data[j][i]\n",
    "            j += 1\n",
    "        i += 1\n",
    "    return t\n",
    "\n",
    "def addMatrices(m1, m2):\n",
    "    if m1.RowCount != m2.RowCount and m1.ColumnCount != m2.ColumnCount:\n",
    "\t    raise \"Only matrices with same order can be added\"\n",
    "    r = createMatrix(m1.RowCount, m1.ColumnCount)\n",
    "    i = 0\n",
    "    while i < r.RowCount:\n",
    "        j = 0\n",
    "        while j < r.ColumnCount:\n",
    "            r.Data[i][j] = m1.Data[i][j] + m2.Data[i][j]\n",
    "            j += 1\n",
    "        i += 1\n",
    "    return r\n",
    "\n",
    "def isSymmetric(m):\n",
    "    if m.RowCount != m.ColumnCount:\n",
    "\t    raise \"Not a Square Matrix, Only a Square Matrix be Symmetric\"\n",
    "    i = 0\n",
    "    while i < m.RowCount:\n",
    "        j = 0  # j can be set here to i+1\n",
    "        while j < m.ColumnCount:\n",
    "            if m.Data[i][j] != m.Data[j][i]:\n",
    "                return False\n",
    "            j += 1\n",
    "        i += 1\n",
    "    return True\n"
   ]
  },
  {
   "cell_type": "code",
   "execution_count": null,
   "id": "3881873e",
   "metadata": {},
   "outputs": [],
   "source": [
    "def createIdentityMatrix(rows,cols):\n",
    "    if rows != cols:\n",
    "        raise \"Not a Square Matrix,only sqare matrix can be identity\"\n",
    "    else:\n",
    "        m = createMatrix(rows, cols)\n",
    "        i = 0\n",
    "        while i < m.RowCount:\n",
    "            j = i\n",
    "            m.Data[i][j] = 1\n",
    "            i += 1\n",
    "    return m"
   ]
  },
  {
   "cell_type": "code",
   "execution_count": null,
   "id": "862690a5",
   "metadata": {},
   "outputs": [],
   "source": [
    "def isSqareMatrix(m):\n",
    "    r = m.RowCount\n",
    "    c = m.ColumnCount\n",
    "    if r == c:\n",
    "        return True\n",
    "    else:\n",
    "        return False"
   ]
  },
  {
   "cell_type": "code",
   "execution_count": null,
   "id": "39307dca",
   "metadata": {},
   "outputs": [],
   "source": [
    "def subtractMatrices(m1,m2):\n",
    "    if m1.RowCount != m2.RowCount and m1.ColumnCount != m2.ColumnCount:\n",
    "\t    raise \"Only matrices with same order can be sbtracted\"\n",
    "    r = createMatrix(m1.RowCount, m1.ColumnCount)\n",
    "    i = 0\n",
    "    while i < r.RowCount:\n",
    "        j = 0\n",
    "        while j < r.ColumnCount:\n",
    "            r.Data[i][j] = m1.Data[i][j] - m2.Data[i][j]\n",
    "            j += 1\n",
    "        i += 1\n",
    "    return r"
   ]
  },
  {
   "cell_type": "code",
   "execution_count": null,
   "id": "76a0ab8d",
   "metadata": {},
   "outputs": [],
   "source": [
    "a = createIdentityMatrix(2,2)\n",
    "b = createIdentityMatrix(2,2)\n",
    "printMatrix(a)\n",
    "print(isSqareMatrix(a))\n",
    "k = subtractMatrices(a,b)\n",
    "printMatrix(k)"
   ]
  },
  {
   "cell_type": "code",
   "execution_count": null,
   "id": "fe9cfd6b",
   "metadata": {},
   "outputs": [],
   "source": [
    "def multiplyMatrices(m1,m2):\n",
    "    if m1.ColumnCount != m2.RowCount :\n",
    "\t    raise \"matrices cannot be mltiplied\"\n",
    "    else:\n",
    "        r = createMatrix(m1.RowCount, m2.ColumnCount)\n",
    "        i = 0\n",
    "        while i < m1.RowCount:\n",
    "            j = 0\n",
    "            while j < m2.ColumnCount:\n",
    "                k = 0\n",
    "                s = 0\n",
    "                while k < m1.ColumnCount:\n",
    "                    s = (m1.Data[j][k])*(m2.Data[k][j])+s\n",
    "                    k = k + 1\n",
    "                r.Data[i][j]= s\n",
    "                j = j + 1\n",
    "            i = i + 1\n",
    "        return r\n",
    "    "
   ]
  },
  {
   "cell_type": "code",
   "execution_count": null,
   "id": "9f1ae848",
   "metadata": {},
   "outputs": [],
   "source": [
    "a = createMatrix(1,3)\n",
    "inputMatrix(a)\n",
    "printMatrix(a)\n",
    "b = createMatrix(3,1)\n",
    "inputMatrix(b)\n",
    "printMatrix(b)\n",
    "k = multiplyMatrices(a,b)\n",
    "printMatrix(k)\n"
   ]
  },
  {
   "cell_type": "code",
   "execution_count": null,
   "id": "9117e23c",
   "metadata": {},
   "outputs": [],
   "source": [
    "mat = [[[0 for i in range(7)]for j in range(9)]for k in range(4)]\n",
    "i = 3\n",
    "while i >=0:\n",
    "    print(mat[i])\n",
    "    print()\n",
    "    i = i - 1\n",
    "       "
   ]
  },
  {
   "cell_type": "code",
   "execution_count": 7,
   "id": "0685449e",
   "metadata": {},
   "outputs": [],
   "source": [
    "#creating a 2d array of size 12x6\n",
    "from random import randint\n",
    "a = [[randint(0,5000)for i in range(6)]for j in range(12)]\n",
    "#a[j][0]= for travelling\n",
    "#a[j][1]= for eating\n",
    "#a[j][2]= for stationary\n",
    "#a[j][3]= for savings\n",
    "#a[j][4]= for charity\n",
    "#a[j][5]= for fee charges\n",
    "\n",
    "#fnction to find total budget of year\n",
    "def budget_of_year(a):\n",
    "    sm = 0\n",
    "    i = 0\n",
    "    while i < 12:\n",
    "        j = 0\n",
    "        while j < 6:\n",
    "            sm += a[i][j]\n",
    "            j = j + 1\n",
    "        i = i + 1\n",
    "    return sm\n",
    "#function to find budget of each month\n",
    "def budget_of_each_month(a):\n",
    "    k =[0]*12\n",
    "    i = 0\n",
    "    while i < 12:\n",
    "        j = 0\n",
    "        while j < 6:\n",
    "            k[i] += a[i][j]\n",
    "            j = j+1\n",
    "        i += 1\n",
    "    return k\n",
    "#function to find month with maximum budget\n",
    "def maxbudget_month(a):\n",
    "    k = budget_of_each_month(a)\n",
    "    i = 11\n",
    "    lar = 0\n",
    "    while i > 0:\n",
    "        if k[i-1] > k[i]:\n",
    "            lar = k[i-1]\n",
    "        i = i - 1\n",
    "    return lar\n",
    "#function to find total charity of year\n",
    "def tot_charity(a):\n",
    "    k = 4\n",
    "    i = 0\n",
    "    totch = 0\n",
    "    while i < 12:\n",
    "        totch += a[i][k]\n",
    "        i += 1\n",
    "    return totch\n",
    "#function to find month with maximum travelling\n",
    "def max_travel(a):\n",
    "    mx = 0\n",
    "    i = 0\n",
    "    while i < 11:\n",
    "        if a[i][0]>a[i+1][0]:\n",
    "            mx = a[i][0]\n",
    "            return i,mx\n",
    "        i = i+1\n",
    "#function to find total fee charges of year \n",
    "def tot_fee(a):\n",
    "    s = 0\n",
    "    i = 0\n",
    "    while i < 12:\n",
    "        s += a[i][5]\n",
    "        i += 1\n",
    "    return s"
   ]
  },
  {
   "cell_type": "code",
   "execution_count": 9,
   "id": "dda944f5",
   "metadata": {},
   "outputs": [],
   "source": [
    "a = [[randint(0,5000)for i in range(6)]for j in range(12)]"
   ]
  },
  {
   "cell_type": "code",
   "execution_count": 10,
   "id": "1d9b612d",
   "metadata": {},
   "outputs": [
    {
     "data": {
      "text/plain": [
       "6"
      ]
     },
     "execution_count": 10,
     "metadata": {},
     "output_type": "execute_result"
    }
   ],
   "source": [
    "len(a[0])"
   ]
  },
  {
   "cell_type": "code",
   "execution_count": 8,
   "id": "d3290eb5",
   "metadata": {},
   "outputs": [
    {
     "name": "stdout",
     "output_type": "stream",
     "text": [
      "175635\n",
      "[19968, 11756, 15230, 18849, 8378, 17222, 12216, 14562, 8636, 17563, 13521, 17734]\n",
      "19968\n",
      "26060\n",
      "(0, 3973)\n",
      "25202\n"
     ]
    }
   ],
   "source": [
    "print(budget_of_year(a))\n",
    "print(budget_of_each_month(a))\n",
    "print(maxbudget_month(a))\n",
    "print(tot_charity(a))\n",
    "print(max_travel(a))\n",
    "print(tot_fee(a))"
   ]
  },
  {
   "cell_type": "code",
   "execution_count": 11,
   "id": "55c1cdfb",
   "metadata": {},
   "outputs": [],
   "source": [
    "def results(m,prog,stud):\n",
    "    totmarks = 0\n",
    "    for sem in range(8):\n",
    "        for sub in range(6):\n",
    "            b = m[sem][sub]\n",
    "            print(b)\n",
    "            totmarks = b + totmarks"
   ]
  },
  {
   "cell_type": "code",
   "execution_count": 12,
   "id": "36baa3d0",
   "metadata": {},
   "outputs": [],
   "source": [
    "data = [[[[randint(10,99) for k in range(50)] for j in range(6)] for i in range(8)] for g in range(4)]"
   ]
  },
  {
   "cell_type": "code",
   "execution_count": 13,
   "id": "ac912b7a",
   "metadata": {},
   "outputs": [
    {
     "name": "stdout",
     "output_type": "stream",
     "text": [
      "enter the roll no of student to observe the result 3\n",
      "[[92, 97, 82, 82, 27, 69, 27, 20, 31, 53, 23, 94, 87, 54, 94, 75, 77, 15, 91, 79, 89, 52, 33, 38, 26, 58, 63, 49, 24, 36, 31, 65, 42, 94, 51, 84, 13, 95, 79, 58, 55, 83, 19, 49, 18, 84, 28, 39, 13, 43], [25, 15, 75, 20, 20, 84, 28, 21, 96, 53, 80, 99, 66, 79, 21, 84, 12, 76, 73, 92, 26, 60, 42, 50, 68, 24, 81, 95, 26, 26, 61, 55, 75, 92, 44, 56, 90, 80, 40, 49, 47, 62, 70, 87, 74, 31, 79, 17, 68, 70], [12, 55, 83, 50, 50, 51, 33, 11, 58, 88, 75, 13, 87, 14, 45, 12, 31, 21, 61, 41, 89, 50, 73, 97, 89, 28, 41, 17, 84, 99, 14, 30, 55, 71, 56, 20, 33, 37, 10, 13, 39, 17, 48, 89, 13, 23, 99, 65, 78, 43], [49, 28, 20, 14, 62, 51, 96, 43, 26, 53, 93, 42, 21, 53, 44, 18, 64, 33, 36, 43, 41, 79, 71, 20, 87, 23, 74, 27, 54, 21, 35, 60, 61, 60, 65, 88, 52, 61, 27, 68, 60, 77, 70, 24, 89, 72, 22, 74, 37, 39], [40, 62, 20, 76, 38, 81, 24, 24, 19, 42, 92, 99, 59, 98, 26, 30, 84, 85, 75, 38, 98, 81, 62, 21, 43, 59, 12, 28, 85, 98, 44, 15, 48, 85, 78, 63, 50, 69, 87, 10, 83, 44, 59, 81, 80, 80, 22, 58, 91, 67], [38, 38, 66, 14, 91, 35, 85, 26, 65, 15, 79, 72, 71, 94, 42, 79, 90, 41, 75, 98, 97, 42, 79, 68, 34, 72, 58, 69, 77, 98, 62, 29, 21, 30, 71, 18, 41, 84, 35, 50, 52, 20, 78, 47, 31, 61, 40, 55, 59, 56]]\n"
     ]
    },
    {
     "ename": "TypeError",
     "evalue": "can only concatenate list (not \"int\") to list",
     "output_type": "error",
     "traceback": [
      "\u001b[1;31m---------------------------------------------------------------------------\u001b[0m",
      "\u001b[1;31mTypeError\u001b[0m                                 Traceback (most recent call last)",
      "\u001b[1;32m~\\AppData\\Local\\Temp/ipykernel_12904/3015344658.py\u001b[0m in \u001b[0;36m<module>\u001b[1;34m\u001b[0m\n\u001b[0;32m      1\u001b[0m \u001b[0mstud\u001b[0m \u001b[1;33m=\u001b[0m \u001b[0mint\u001b[0m\u001b[1;33m(\u001b[0m\u001b[0minput\u001b[0m\u001b[1;33m(\u001b[0m\u001b[1;34m\"enter the roll no of student to observe the result \"\u001b[0m\u001b[1;33m)\u001b[0m\u001b[1;33m)\u001b[0m\u001b[1;33m\u001b[0m\u001b[1;33m\u001b[0m\u001b[0m\n\u001b[1;32m----> 2\u001b[1;33m \u001b[0mresults\u001b[0m\u001b[1;33m(\u001b[0m\u001b[0mdata\u001b[0m\u001b[1;33m,\u001b[0m\u001b[1;36m2\u001b[0m\u001b[1;33m,\u001b[0m\u001b[0mstud\u001b[0m\u001b[1;33m)\u001b[0m\u001b[1;33m\u001b[0m\u001b[1;33m\u001b[0m\u001b[0m\n\u001b[0m",
      "\u001b[1;32m~\\AppData\\Local\\Temp/ipykernel_12904/3941451667.py\u001b[0m in \u001b[0;36mresults\u001b[1;34m(m, prog, stud)\u001b[0m\n\u001b[0;32m      5\u001b[0m             \u001b[0mb\u001b[0m \u001b[1;33m=\u001b[0m \u001b[0mm\u001b[0m\u001b[1;33m[\u001b[0m\u001b[0msem\u001b[0m\u001b[1;33m]\u001b[0m\u001b[1;33m[\u001b[0m\u001b[0msub\u001b[0m\u001b[1;33m]\u001b[0m\u001b[1;33m\u001b[0m\u001b[1;33m\u001b[0m\u001b[0m\n\u001b[0;32m      6\u001b[0m             \u001b[0mprint\u001b[0m\u001b[1;33m(\u001b[0m\u001b[0mb\u001b[0m\u001b[1;33m)\u001b[0m\u001b[1;33m\u001b[0m\u001b[1;33m\u001b[0m\u001b[0m\n\u001b[1;32m----> 7\u001b[1;33m             \u001b[0mtotmarks\u001b[0m \u001b[1;33m=\u001b[0m \u001b[0mb\u001b[0m \u001b[1;33m+\u001b[0m \u001b[0mtotmarks\u001b[0m\u001b[1;33m\u001b[0m\u001b[1;33m\u001b[0m\u001b[0m\n\u001b[0m",
      "\u001b[1;31mTypeError\u001b[0m: can only concatenate list (not \"int\") to list"
     ]
    }
   ],
   "source": [
    "stud = int(input(\"enter the roll no of student to observe the result \"))\n",
    "results(data,2,stud)"
   ]
  },
  {
   "cell_type": "code",
   "execution_count": 15,
   "id": "bc718058",
   "metadata": {},
   "outputs": [
    {
     "ename": "IndentationError",
     "evalue": "unindent does not match any outer indentation level (<tokenize>, line 9)",
     "output_type": "error",
     "traceback": [
      "\u001b[1;36m  File \u001b[1;32m\"<tokenize>\"\u001b[1;36m, line \u001b[1;32m9\u001b[0m\n\u001b[1;33m    a = [0]*6\u001b[0m\n\u001b[1;37m    ^\u001b[0m\n\u001b[1;31mIndentationError\u001b[0m\u001b[1;31m:\u001b[0m unindent does not match any outer indentation level\n"
     ]
    }
   ],
   "source": [
    "def SubWiseAvg(m):\n",
    "\tswsum = [0]*6\n",
    "\tfor sub in range(6):\n",
    "\t\tfor prog in range (4):\n",
    "\t\t\tfor sem in range(8):\n",
    "\t\t\t\tfor stud in range(50):\n",
    "\t\t\t\t\tswsum[sub] += m[prog][sem][sub][stud]\n",
    "    \n",
    "    a = [0]*6\n",
    "    for s in range(6):\n",
    "        a[s] = swsum[s]/4.0/8.0/50.0\n",
    "    return a"
   ]
  },
  {
   "cell_type": "code",
   "execution_count": null,
   "id": "5efbc48a",
   "metadata": {},
   "outputs": [],
   "source": [
    "print(budget_of_year(a))"
   ]
  },
  {
   "cell_type": "code",
   "execution_count": 17,
   "id": "de1e31bf",
   "metadata": {},
   "outputs": [
    {
     "ename": "IndentationError",
     "evalue": "unindent does not match any outer indentation level (<tokenize>, line 38)",
     "output_type": "error",
     "traceback": [
      "\u001b[1;36m  File \u001b[1;32m\"<tokenize>\"\u001b[1;36m, line \u001b[1;32m38\u001b[0m\n\u001b[1;33m    a = [0]*6\u001b[0m\n\u001b[1;37m    ^\u001b[0m\n\u001b[1;31mIndentationError\u001b[0m\u001b[1;31m:\u001b[0m unindent does not match any outer indentation level\n"
     ]
    }
   ],
   "source": [
    "# solution task 1\n",
    "# Write a function to compute and display the program wise average\n",
    "def progWiseAvg(m):\n",
    "    progWavg = [0]*4\n",
    "    for prog in range(4):\n",
    "        for sem in range(8):\n",
    "            for sub in range(6):\n",
    "                for stud in range(50):\n",
    "                    progWavg[prog] += m[prog][sem][sub][stud]\n",
    "\n",
    "    a = [0]*4\n",
    "    for p in range(4):\n",
    "        a[p] = progWavg[p]/8.0/6.0/50.0\n",
    "    return a\n",
    "# solution task 2\n",
    "#  Write a function to compute and display the semester wise average\n",
    "def semWiseAvg(m):\n",
    "    semWavg = [0]*8\n",
    "    for sem in range(8):\n",
    "        for prog in range(4):\n",
    "            for sub in range(6):\n",
    "                for stud in range(50):\n",
    "                    semWavg[sem] += m[prog][sem][sub][stud]\n",
    "\n",
    "    a = [0]*8\n",
    "    for i in range(8):\n",
    "        a[i] = semWavg[i]/4.0/6.0/50.0\n",
    "    return a\n",
    "# Solution problem 3\n",
    "# Write a function to compute and display the subject wise average\n",
    "def SubWiseAvg(m):\n",
    "\tswsum = [0]*6\n",
    "\tfor sub in range(6):\n",
    "\t\tfor prog in range (4):\n",
    "\t\t\tfor sem in range(8):\n",
    "\t\t\t\tfor stud in range(50):\n",
    "\t\t\t\t\tswsum[sub] += m[prog][sem][sub][stud]\n",
    "    a = [0]*6\n",
    "    for s in range(6):\n",
    "        a[s] = swsum[s]/4.0/8.0/50.0\n",
    "    return a\n",
    "# solution task 4\n",
    "#  Write a function to compute and display the program (passed as parameter) + semester wise average\n",
    "def SemWiseAvg4Prog(m, prog):\n",
    "    semWavg = [0]*8\n",
    "    for sem in range(8):\n",
    "            for sub in range(6):\n",
    "                for stud in range(50):\n",
    "                    semWavg[sem] += m[prog][sem][sub][stud]\n",
    "\n",
    "    a= [0]*8\n",
    "    for s in range(8):\n",
    "        a[s] = semWavg[s]/6.0/50.0\n",
    "    return a\n",
    "# solution task 5\n",
    "#  Write a function to compute and display the result of student of a program, both passed as parameters\n",
    "def results(m,prog,stud):\n",
    "    totmarks = 0\n",
    "    for sem in range(8):\n",
    "        for sub in range(6):\n",
    "            b = m[prog][sem][sub][stud]\n",
    "            totmarks = b + totmarks\n",
    "    return totmarks\n",
    "# printing in reasonable form in main\n",
    "def main():\n",
    "    data = [[[[randint(10,99) for k in range(50)] for j in range(6)] for i in range(8)] for g in range(4)]\n",
    "    #for printing program wise average\n",
    "    pavg = progWiseAvg(data)\n",
    "    print(\"the average based on the programs offered by University is as follows\")\n",
    "    print(\"the average of BSCS is: \",pavg[0])\n",
    "    print(\"the average of BSSE is: \",pavg[1])\n",
    "    print(\"the average of BSIT is: \",pavg[2])\n",
    "    print(\"the average of BSDS is: \",pavg[3])\n",
    "    print(\"===============================\")\n",
    "    print(\"the total  average based on the semester is as follows\")\n",
    "    smavg = semWiseAvg(data)\n",
    "    for i in range(8):\n",
    "        print(\"the average of semester number \",i+1,\"is \",smavg[i])\n",
    "    print(\"===============================\")\n",
    "    print(\"the total  average based on the subject is as follows\")\n",
    "    subavg = SubWiseAvg(data)\n",
    "    for i in range(6):\n",
    "        print(\"the average of subject number \",i+1,\"is \",subavg[i])\n",
    "    print(\"===============================\")\n",
    "    prog = int(input(\"enter the programme whose average you want to observe\"))\n",
    "    sVpAvg = SemWiseAvg4Prog(data, prog)\n",
    "    for i in range(8):\n",
    "        print(\"the average of semester number \",i+1,\"of program number\",prog,\"is \",subavg[i])\n",
    "    print(\"===============================\")\n",
    "    stud = int(input(\"enter the roll no of student to observe the result \"))\n",
    "    p = int(input(\"enter the degree program number of student aswell \"))\n",
    "    r = results(data,p,stud)\n",
    "    print(\"the gained percentage of student :\",stud,\"of program number: \",p,\"is:\",r)\n",
    "main()"
   ]
  }
 ],
 "metadata": {
  "kernelspec": {
   "display_name": "Python 3 (ipykernel)",
   "language": "python",
   "name": "python3"
  },
  "language_info": {
   "codemirror_mode": {
    "name": "ipython",
    "version": 3
   },
   "file_extension": ".py",
   "mimetype": "text/x-python",
   "name": "python",
   "nbconvert_exporter": "python",
   "pygments_lexer": "ipython3",
   "version": "3.9.7"
  }
 },
 "nbformat": 4,
 "nbformat_minor": 5
}
