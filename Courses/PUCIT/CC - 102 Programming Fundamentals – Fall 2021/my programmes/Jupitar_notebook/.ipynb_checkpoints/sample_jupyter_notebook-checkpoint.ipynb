{
 "cells": [
  {
   "cell_type": "markdown",
   "id": "07747fb7",
   "metadata": {},
   "source": [
    "# python ka chilla with baba ammar\n",
    "## learning basics of jupyter notebook\n",
    "### learning python\n",
    "1. my first program\n",
    "\n",
    "2. my second program"
   ]
  },
  {
   "cell_type": "code",
   "execution_count": null,
   "id": "78c20a6c",
   "metadata": {},
   "outputs": [],
   "source": [
    "a = \"idueyfgqe8fg221@#e7217\"\n",
    "i = 0\n",
    "s = 0\n",
    "c = 0\n",
    "while i < len(a):\n",
    "    if ord(a[i]) >= ord(\"0\") and  ord(a[i]) <= ord(\"9\"):\n",
    "        s = s + int(a[i])\n",
    "        c = c + 1\n",
    "    else:\n",
    "        pass\n",
    "    i = i + 1\n",
    "avg = s/c\n",
    "print(\"the sum of all the numbers in the string is\",s)\n",
    "print(\"the count of all the numbers in the string is\",c)\n",
    "print(\"the average of all the numbers in the string is\",avg)"
   ]
  },
  {
   "cell_type": "code",
   "execution_count": null,
   "id": "e93657d6",
   "metadata": {},
   "outputs": [],
   "source": [
    "h = int(input(\"enter the half height of diamond\"))\n",
    "for x in range(h):\n",
    "    print(\" \" * (h - x), \"*\" * (2*x + 1))\n",
    "for x in range(h - 2, -1, -1):\n",
    "    print(\" \" * (h - x), \"*\" * (2*x + 1))\n"
   ]
  },
  {
   "cell_type": "code",
   "execution_count": null,
   "id": "a0a5a003",
   "metadata": {},
   "outputs": [],
   "source": []
  }
 ],
 "metadata": {
  "kernelspec": {
   "display_name": "Python 3 (ipykernel)",
   "language": "python",
   "name": "python3"
  },
  "language_info": {
   "codemirror_mode": {
    "name": "ipython",
    "version": 3
   },
   "file_extension": ".py",
   "mimetype": "text/x-python",
   "name": "python",
   "nbconvert_exporter": "python",
   "pygments_lexer": "ipython3",
   "version": "3.9.7"
  }
 },
 "nbformat": 4,
 "nbformat_minor": 5
}
