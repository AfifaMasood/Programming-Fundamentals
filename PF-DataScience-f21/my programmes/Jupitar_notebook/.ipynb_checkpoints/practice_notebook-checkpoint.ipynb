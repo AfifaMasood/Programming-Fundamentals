{
 "cells": [
  {
   "cell_type": "markdown",
   "id": "74699889",
   "metadata": {},
   "source": [
    "### making program to add first  half  to second"
   ]
  },
  {
   "cell_type": "code",
   "execution_count": null,
   "id": "eb90ee93",
   "metadata": {},
   "outputs": [],
   "source": [
    "def evenhalfadd(a):\n",
    "    l = len(a)\n",
    "    h = l/2\n",
    "    i = 0\n",
    "    j = 1\n",
    "    while i < h and j<=h:\n",
    "        a[i] = a[i]+a[-j]\n",
    "        a[-j] = \"\"\n",
    "        i = i + 1\n",
    "        j = j + 1\n",
    "        \n",
    "    return a\n"
   ]
  },
  {
   "cell_type": "code",
   "execution_count": null,
   "id": "b57a1722",
   "metadata": {},
   "outputs": [],
   "source": [
    "a = [1,2,3,4,5,6,7,8]\n",
    "print(evenhalfadd(a))\n"
   ]
  },
  {
   "cell_type": "markdown",
   "id": "0906769c",
   "metadata": {},
   "source": [
    "---"
   ]
  },
  {
   "cell_type": "code",
   "execution_count": 6,
   "id": "12e22ceb",
   "metadata": {},
   "outputs": [
    {
     "data": {
      "text/plain": [
       "'ssssssskhkhuhhsuhsuhsiushiush'"
      ]
     },
     "execution_count": 6,
     "metadata": {},
     "output_type": "execute_result"
    }
   ],
   "source": [
    "c = \"assasasasasasakhkhuhhsauhsauhsaiushiaush\"\n",
    "c.replace(\"a\",\"\")"
   ]
  },
  {
   "cell_type": "code",
   "execution_count": 7,
   "id": "a5061913",
   "metadata": {},
   "outputs": [
    {
     "data": {
      "text/plain": [
       "12"
      ]
     },
     "execution_count": 7,
     "metadata": {},
     "output_type": "execute_result"
    }
   ],
   "source": [
    "c.count(\"s\")"
   ]
  },
  {
   "cell_type": "code",
   "execution_count": 8,
   "id": "62c8e10a",
   "metadata": {},
   "outputs": [
    {
     "data": {
      "text/plain": [
       "1"
      ]
     },
     "execution_count": 8,
     "metadata": {},
     "output_type": "execute_result"
    }
   ],
   "source": [
    "c.find(\"s\")\n"
   ]
  },
  {
   "cell_type": "code",
   "execution_count": 9,
   "id": "46ad84a3",
   "metadata": {},
   "outputs": [
    {
     "data": {
      "text/plain": [
       "['a',\n",
       " '',\n",
       " 'a',\n",
       " 'a',\n",
       " 'a',\n",
       " 'a',\n",
       " 'a',\n",
       " 'akhkhuhh',\n",
       " 'auh',\n",
       " 'auh',\n",
       " 'aiu',\n",
       " 'hiau',\n",
       " 'h']"
      ]
     },
     "execution_count": 9,
     "metadata": {},
     "output_type": "execute_result"
    }
   ],
   "source": [
    "c.split(\"s\")\n"
   ]
  },
  {
   "cell_type": "code",
   "execution_count": 13,
   "id": "ec8c4e89",
   "metadata": {},
   "outputs": [
    {
     "data": {
      "text/plain": [
       "(1, 's', 'b', 121, 2, 3, 6, 'baba', 1, 2, 3, 6)"
      ]
     },
     "execution_count": 13,
     "metadata": {},
     "output_type": "execute_result"
    }
   ],
   "source": [
    "t1 = (1,\"s\",\"b\",121,2,3,6,\"baba\")\n",
    "t2 = (1,2,3,6)\n",
    "t1+t2"
   ]
  },
  {
   "cell_type": "markdown",
   "id": "02276dbd",
   "metadata": {},
   "source": [
    "---"
   ]
  },
  {
   "cell_type": "code",
   "execution_count": 20,
   "id": "e52136c0",
   "metadata": {},
   "outputs": [
    {
     "data": {
      "text/plain": [
       "2"
      ]
     },
     "execution_count": 20,
     "metadata": {},
     "output_type": "execute_result"
    }
   ],
   "source": [
    "l1 = [1,2,3,4,5,6,7,1,8,90,]\n",
    "l1.count(1)"
   ]
  },
  {
   "cell_type": "code",
   "execution_count": 17,
   "id": "01a61599",
   "metadata": {},
   "outputs": [
    {
     "data": {
      "text/plain": [
       "[1, 2, 3, 4]"
      ]
     },
     "execution_count": 17,
     "metadata": {},
     "output_type": "execute_result"
    }
   ],
   "source": [
    "l1[0:4]"
   ]
  },
  {
   "cell_type": "code",
   "execution_count": 18,
   "id": "0860f870",
   "metadata": {},
   "outputs": [
    {
     "data": {
      "text/plain": [
       "[]"
      ]
     },
     "execution_count": 18,
     "metadata": {},
     "output_type": "execute_result"
    }
   ],
   "source": [
    "l1[4:2]"
   ]
  },
  {
   "cell_type": "code",
   "execution_count": 23,
   "id": "d33782dd",
   "metadata": {},
   "outputs": [],
   "source": [
    "def pprnt(ch,l):\n",
    "    i = 1\n",
    "    while i<=l:\n",
    "        s = l-i\n",
    "        b = \" \"\n",
    "        print((b*s)+(str(ch)*i))\n",
    "        i = i + 1\n",
    "        "
   ]
  },
  {
   "cell_type": "code",
   "execution_count": 25,
   "id": "9a0a8a02",
   "metadata": {},
   "outputs": [
    {
     "name": "stdout",
     "output_type": "stream",
     "text": [
      "    *\n",
      "   **\n",
      "  ***\n",
      " ****\n",
      "*****\n"
     ]
    }
   ],
   "source": [
    "pprnt(\"*\",5)\n"
   ]
  },
  {
   "cell_type": "code",
   "execution_count": 30,
   "id": "bda3f87d",
   "metadata": {},
   "outputs": [],
   "source": [
    "def line(b,i):\n",
    "    k = ord(b)\n",
    "    s = \"\"\n",
    "    while k <= i:\n",
    "        s = s + chr(k)\n",
    "        k = k + 1\n",
    "    return s"
   ]
  },
  {
   "cell_type": "code",
   "execution_count": 44,
   "id": "d18ff793",
   "metadata": {},
   "outputs": [],
   "source": [
    "def character_triangle(b,e):\n",
    "    i = ord(b)\n",
    "    sp =int((ord(e)-ord(b)+1)/2)\n",
    "    blank =\" \"\n",
    "    k = 1\n",
    "    while i <= ord(e):\n",
    "        print(((sp-k)*blank)+(line(b,i)))\n",
    "        i = i + 2\n",
    "        k = k + 1"
   ]
  },
  {
   "cell_type": "code",
   "execution_count": 48,
   "id": "2dbc02b7",
   "metadata": {
    "scrolled": true
   },
   "outputs": [
    {
     "name": "stdout",
     "output_type": "stream",
     "text": [
      "   m\n",
      "  mno\n",
      " mnopq\n",
      "mnopqrs\n",
      "mnopqrstu\n"
     ]
    }
   ],
   "source": []
  }
 ],
 "metadata": {
  "kernelspec": {
   "display_name": "Python 3 (ipykernel)",
   "language": "python",
   "name": "python3"
  },
  "language_info": {
   "codemirror_mode": {
    "name": "ipython",
    "version": 3
   },
   "file_extension": ".py",
   "mimetype": "text/x-python",
   "name": "python",
   "nbconvert_exporter": "python",
   "pygments_lexer": "ipython3",
   "version": "3.9.7"
  }
 },
 "nbformat": 4,
 "nbformat_minor": 5
}
